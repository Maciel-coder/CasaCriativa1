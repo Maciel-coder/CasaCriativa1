{
  "nbformat": 4,
  "nbformat_minor": 0,
  "metadata": {
    "colab": {
      "name": "Lista de Exercícios.ipynb",
      "provenance": [],
      "collapsed_sections": [],
      "include_colab_link": true
    },
    "kernelspec": {
      "name": "python3",
      "display_name": "Python 3"
    },
    "language_info": {
      "name": "python"
    }
  },
  "cells": [
    {
      "cell_type": "markdown",
      "metadata": {
        "id": "view-in-github",
        "colab_type": "text"
      },
      "source": [
        "<a href=\"https://colab.research.google.com/github/Maciel-coder/CasaCriativa1/blob/master/Lista_de_Exerc%C3%ADcios.ipynb\" target=\"_parent\"><img src=\"https://colab.research.google.com/assets/colab-badge.svg\" alt=\"Open In Colab\"/></a>"
      ]
    },
    {
      "cell_type": "markdown",
      "source": [
        "### 1) Escreva um programa que percorra duas listas e gere uma terceira sem elementos repetidos."
      ],
      "metadata": {
        "id": "PV8KcDPKxIWG"
      }
    },
    {
      "cell_type": "code",
      "execution_count": null,
      "metadata": {
        "id": "CoO79J0gxHcK"
      },
      "outputs": [],
      "source": [
        "primeira = [1,2,3,4,5,6,7]\n",
        "segunda = [5,6,7,8,9,10]\n",
        "terceira = []\n",
        "\n",
        "listas = primeira.copy()\n",
        "listas.extend(segunda)\n",
        "\n",
        "for x in listas:\n",
        "  if x not in terceira:\n",
        "    terceira.append(x)\n",
        "\n",
        "terceira\n",
        "\n"
      ]
    },
    {
      "cell_type": "markdown",
      "source": [
        "### 2) Escreva um programa que gere um dicionário, em que cada chave seja um caractere, e seu valor seja o número desse caractere encontrado em uma frase lida."
      ],
      "metadata": {
        "id": "Ob8jn65jxbsD"
      }
    },
    {
      "cell_type": "code",
      "source": [
        "frase = input(\"Digite uma frase para contar as letras: \")\n",
        "dic = {}\n",
        "for letra in frase:\n",
        "  if letra in dic:\n",
        "    dic[letra] = dic[letra] + 1\n",
        "  else:\n",
        "    dic[letra] = 1\n",
        "\n",
        "print(dic)"
      ],
      "metadata": {
        "id": "iM_SBDftxn-3"
      },
      "execution_count": null,
      "outputs": []
    },
    {
      "cell_type": "markdown",
      "source": [
        "### 3) Escreva um programa que leia um vetor de dez números reais e mostre-os na ordem inversa."
      ],
      "metadata": {
        "id": "vNkn199nxuqK"
      }
    },
    {
      "cell_type": "code",
      "source": [
        "lista_numeros = []\n",
        "for x in range(10):\n",
        "  lista_numeros.append(float(input(f\"Digitite o número {x + 1}: \")))\n",
        "lista_numeros[::-1]"
      ],
      "metadata": {
        "id": "JXHIFl3nx1lh"
      },
      "execution_count": null,
      "outputs": []
    },
    {
      "cell_type": "markdown",
      "source": [
        "### 4) Escreva um programa que leia quatro notas e calcule a média por meio de uma função e mostre na tela.\n"
      ],
      "metadata": {
        "id": "PwC-O_wVx5HT"
      }
    },
    {
      "cell_type": "code",
      "source": [
        "def media(notas):\n",
        "  print(f\"Média: {sum(notas) / len(notas)}\")\n",
        "\n",
        "notas = []\n",
        "for x in range(4):\n",
        "  notas.append(float(input(f\"Ditigite a nota {x+1}: \")))\n",
        "\n",
        "media(notas)"
      ],
      "metadata": {
        "id": "usKeg94AyAl5"
      },
      "execution_count": null,
      "outputs": []
    },
    {
      "cell_type": "markdown",
      "source": [
        "### 5) Vamos consumir a API \"Advice Slip\", ela retorna uma frase. Faça uma função que retorne um conselho aleatório para o usuário extraído de uma API."
      ],
      "metadata": {
        "id": "EtJtk5QjyIJY"
      }
    },
    {
      "cell_type": "markdown",
      "source": [
        "**Instruções:**\n",
        "\n",
        "URL da API: https://api.adviceslip.com/advice\n",
        "\n",
        "Com a biblioteca \"urllib.request\" é possível fazer requisições http com Python, basta usar o método \"urlopen\" passando a endpoint da API que deseja consumir. Exemplo:\n",
        "\n",
        "**`resposse = urllib.request.urlopen('url_da_api').read()`**\n",
        "\n",
        "A grande maiora das APIs hoje em dia retorna dados no formato json, em Python essas dados podem ser lidos por meio da biblioteca \"json\". Exemplo:\n",
        "\n",
        "**`data = json.loads(response.decode('utf-8'))`**\n",
        "\n",
        "Pronto, com isso a variável data é uma variável do tipo dicionário, ou seja, variável com a estrutura chave-valor. "
      ],
      "metadata": {
        "id": "1NPZpz3Ly9Nl"
      }
    },
    {
      "cell_type": "code",
      "source": [
        "import urllib.request as r\n",
        "import json\n",
        "#from pprint import pprint\n",
        "\n",
        "def get_conselho():\n",
        "  response = r.urlopen(\"https://api.adviceslip.com/advice\").read()\n",
        "  data = json.loads(response.decode('utf-8'))\n",
        "  conselho = data['slip']\n",
        "  return conselho['advice']\n",
        "\n",
        "print(get_conselho())"
      ],
      "metadata": {
        "id": "MElBCd-n1ukY",
        "colab": {
          "base_uri": "https://localhost:8080/"
        },
        "outputId": "b9d8b5ff-fb39-4385-d04d-fd2531ef781f"
      },
      "execution_count": null,
      "outputs": [
        {
          "output_type": "stream",
          "name": "stdout",
          "text": [
            "If it still itches after a week, go to the doctors.\n"
          ]
        }
      ]
    },
    {
      "cell_type": "markdown",
      "source": [
        "### 6) Implemente a função buscar_endereco(str), que recebe como parâmetro um CEP e consulta e retorna o endereço correspondente consumido de uma API."
      ],
      "metadata": {
        "id": "9OquPn-p3ZHD"
      }
    },
    {
      "cell_type": "markdown",
      "source": [
        "Instruções:\n",
        "\n",
        "URL da API: https://viacep.com.br/ws/01001000/json/\n",
        "\n",
        "A função **pprint** mostra melhor os dados de recebidos de uma API.\n",
        "\n",
        "**`from pprint import pprint`**"
      ],
      "metadata": {
        "id": "ugDSO0OT77QV"
      }
    },
    {
      "cell_type": "code",
      "source": [
        "import urllib.request as r\n",
        "import json\n",
        "from pprint import pprint\n",
        "\n",
        "def buscar_endereco(cep):\n",
        "  #https://viacep.com.br/ws/65800-000/json/\n",
        "  response = r.urlopen(f'https://viacep.com.br/ws/{cep}/json/').read()\n",
        "  data = json.loads(response.decode('utf-8'))\n",
        "  return data\n",
        "\n",
        "pprint(buscar_endereco('65800-000'))"
      ],
      "metadata": {
        "id": "uRNdGr537htV",
        "colab": {
          "base_uri": "https://localhost:8080/"
        },
        "outputId": "2efb4a5a-5704-4b05-ee12-8604423e1a94"
      },
      "execution_count": null,
      "outputs": [
        {
          "output_type": "stream",
          "name": "stdout",
          "text": [
            "{'bairro': '',\n",
            " 'cep': '65800-000',\n",
            " 'complemento': '',\n",
            " 'ddd': '99',\n",
            " 'gia': '',\n",
            " 'ibge': '2101400',\n",
            " 'localidade': 'Balsas',\n",
            " 'logradouro': '',\n",
            " 'siafi': '0727',\n",
            " 'uf': 'MA'}\n"
          ]
        }
      ]
    },
    {
      "cell_type": "markdown",
      "source": [
        "### 7) Escreva um programa que leia cinco preços de produtos e armazene em uma lista e posteriormente e aplique um desconto de 20% a todos eles. Use compreensão de lista (List Comprehensions). "
      ],
      "metadata": {
        "id": "jIY-j2usAXhS"
      }
    },
    {
      "cell_type": "code",
      "source": [
        "lista_precos = [500, 1000, 95, 25, 70]\n",
        "\n",
        "nova_lista = [x - x * 0.2 for x in lista_precos]\n",
        "nova_lista"
      ],
      "metadata": {
        "id": "4uegKzhQBfwn"
      },
      "execution_count": null,
      "outputs": []
    },
    {
      "cell_type": "markdown",
      "source": [
        "### 8) Modifique o programa anterior, aplique 20% de desconto apenas aos preços maiores ou igual a R$ 500,00. Caso contrário, aplique apenas 10% de desconto. "
      ],
      "metadata": {
        "id": "YquKdmxdBzPd"
      }
    },
    {
      "cell_type": "code",
      "source": [
        "def desconto(valor):\n",
        "  if valor >= 500:\n",
        "    return valor - valor * 0.2\n",
        "  else:\n",
        "    return valor - valor * 0.1\n",
        "\n",
        "\n",
        "lista_precos = [500, 1000, 95, 25, 70]\n",
        "\n",
        "nova_lista = list(map(desconto, lista_precos))\n",
        "nova_lista"
      ],
      "metadata": {
        "id": "BzCefVs4CivE"
      },
      "execution_count": null,
      "outputs": []
    },
    {
      "cell_type": "markdown",
      "source": [
        "### 9) Cria uma classe chamada \"Aluno\" com os atributos: nome, sobrenome e lista_notas. Posteriormente, implemente o método nome_completo que retorna o nome completo de uma determinada instância dessa classe."
      ],
      "metadata": {
        "id": "_TAgYCf3Cjek"
      }
    },
    {
      "cell_type": "code",
      "source": [
        "class Aluno:\n",
        "  def __init__(self, nome, sobrenome):\n",
        "    self.nome = nome\n",
        "    self.sobrenome = sobrenome\n",
        "    self.lista_notas = []\n",
        "\n",
        "  def nome_completo(self):\n",
        "    print(self.nome, self.sobrenome)\n",
        "\n",
        "aluno = Aluno('Marcos David', 'Ramos')\n",
        "aluno.nome_completo()"
      ],
      "metadata": {
        "id": "Tdz4s3L3EFH4"
      },
      "execution_count": null,
      "outputs": []
    },
    {
      "cell_type": "markdown",
      "source": [
        "### 10) Implemente os seguintes métodos na classe \"Aluno\" do exercíco anterior:\n",
        "\n",
        "*   add_nota(float) -> adiciona uma nota a lista_notas;\n",
        "*   remove_nota(int) -> remove uma nota da lista_nota na posição informada;\n",
        "*   mostrar_notas -> mostrar todas as notas;\n",
        "*   média -> calcula e retorna a média."
      ],
      "metadata": {
        "id": "sVmcLGxaEXGm"
      }
    },
    {
      "cell_type": "code",
      "source": [
        "class Aluno:\n",
        "  def __init__(self, nome, sobrenome):\n",
        "    self.nome = nome\n",
        "    self.sobrenome = sobrenome\n",
        "    self.lista_notas = []\n",
        "\n",
        "  def nome_completo(self):\n",
        "    print(self.nome, self.sobrenome)\n",
        "\n",
        "  def add_nota(self, nota):\n",
        "    self.lista_notas.append(nota)\n",
        "\n",
        "  def media(self):\n",
        "    print(f\"Média: {sum(self.lista_notas) / len(self.lista_notas)}\")\n",
        "\n",
        "aluno = Aluno('Ana Maria', 'Silva')\n",
        "aluno.add_nota(5)\n",
        "aluno.add_nota(9)\n",
        "aluno.media()"
      ],
      "metadata": {
        "id": "-Rilx7URHQmf"
      },
      "execution_count": null,
      "outputs": []
    }
  ]
}